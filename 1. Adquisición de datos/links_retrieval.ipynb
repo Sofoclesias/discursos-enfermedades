{
 "cells": [
  {
   "cell_type": "code",
   "execution_count": 1,
   "metadata": {},
   "outputs": [],
   "source": [
    "from multiprocessing import Pool\n",
    "import crawling as aw_crawl"
   ]
  },
  {
   "cell_type": "markdown",
   "metadata": {},
   "source": [
    "# CDC MINSA\n",
    "\n",
    "Inicialmente, tardó 10 horas (584 minutos y 46 segundos) en extraer todos los pdfs."
   ]
  },
  {
   "cell_type": "code",
   "execution_count": 4,
   "metadata": {},
   "outputs": [],
   "source": [
    "años = list(range(2005,2025))\n",
    "with Pool(processes=6) as pool:\n",
    "    pool.map(aw_crawl.cdc_pdfs,años)"
   ]
  },
  {
   "cell_type": "code",
   "execution_count": 16,
   "metadata": {},
   "outputs": [
    {
     "name": "stdout",
     "output_type": "stream",
     "text": [
      "Cantidad de PDFs recolectados: 3840\n"
     ]
    }
   ],
   "source": [
    "import glob\n",
    "import os\n",
    "\n",
    "all_pdfs = [file for file in glob.glob('pdfs/**/*',recursive=True) if not os.path.isdir(file)]\n",
    "print(f'Cantidad de PDFs recolectados: {len(all_pdfs)}')"
   ]
  },
  {
   "cell_type": "markdown",
   "metadata": {},
   "source": [
    "# Noticias epidemiológicas"
   ]
  },
  {
   "cell_type": "code",
   "execution_count": 2,
   "metadata": {},
   "outputs": [],
   "source": [
    "from itertools import product\n",
    "\n",
    "datecombo = list(product(range(2005,2025),range(1,13)))\n",
    "with open('diseases.txt','r') as f:\n",
    "    diseases = [dis[:-1] for dis in f.readlines()]"
   ]
  },
  {
   "cell_type": "code",
   "execution_count": 3,
   "metadata": {},
   "outputs": [
    {
     "name": "stdout",
     "output_type": "stream",
     "text": [
      "antrax: 2024-09-15 08:45:23.547013\n"
     ]
    },
    {
     "ename": "KeyError",
     "evalue": "'disease'",
     "output_type": "error",
     "traceback": [
      "\u001b[0;31m---------------------------------------------------------------------------\u001b[0m",
      "\u001b[0;31mKeyError\u001b[0m                                  Traceback (most recent call last)",
      "Cell \u001b[0;32mIn[3], line 9\u001b[0m\n\u001b[1;32m      6\u001b[0m \u001b[38;5;28mprint\u001b[39m(\u001b[38;5;124mf\u001b[39m\u001b[38;5;124m'\u001b[39m\u001b[38;5;132;01m{\u001b[39;00mdisease\u001b[38;5;132;01m}\u001b[39;00m\u001b[38;5;124m: \u001b[39m\u001b[38;5;132;01m{\u001b[39;00mdt\u001b[38;5;241m.\u001b[39mnow()\u001b[38;5;132;01m}\u001b[39;00m\u001b[38;5;124m'\u001b[39m)\n\u001b[1;32m      8\u001b[0m \u001b[38;5;28;01mfor\u001b[39;00m datetuple \u001b[38;5;129;01min\u001b[39;00m datecombo:\n\u001b[0;32m----> 9\u001b[0m     \u001b[43maw_crawl\u001b[49m\u001b[38;5;241;43m.\u001b[39;49m\u001b[43mgoogle_crawl\u001b[49m\u001b[43m(\u001b[49m\u001b[43mdisease\u001b[49m\u001b[43m,\u001b[49m\u001b[43maw_crawl\u001b[49m\u001b[38;5;241;43m.\u001b[39;49m\u001b[43mresolve_date\u001b[49m\u001b[43m(\u001b[49m\u001b[43mdatetuple\u001b[49m\u001b[43m)\u001b[49m\u001b[43m)\u001b[49m\n",
      "File \u001b[0;32m~/Documentos/Repositorios/Proyectos/discursos-enfermedades/1. Adquisición de datos/crawling.py:161\u001b[0m, in \u001b[0;36mgoogle_crawl\u001b[0;34m(disease, query)\u001b[0m\n\u001b[1;32m    157\u001b[0m             \u001b[38;5;28;01mbreak\u001b[39;00m\n\u001b[1;32m    159\u001b[0m     \u001b[38;5;28;01mreturn\u001b[39;00m pd\u001b[38;5;241m.\u001b[39mDataFrame(collection)\n\u001b[0;32m--> 161\u001b[0m df \u001b[38;5;241m=\u001b[39m \u001b[43mcrawler\u001b[49m\u001b[43m(\u001b[49m\u001b[43mgoogle_url\u001b[49m\u001b[43m(\u001b[49m\u001b[38;5;124;43m'\u001b[39;49m\u001b[38;5;124;43mperu AND \u001b[39;49m\u001b[38;5;124;43m'\u001b[39;49m\u001b[43m \u001b[49m\u001b[38;5;241;43m+\u001b[39;49m\u001b[43m \u001b[49m\u001b[43mdisease\u001b[49m\u001b[43m \u001b[49m\u001b[38;5;241;43m+\u001b[39;49m\u001b[43m \u001b[49m\u001b[43mquery\u001b[49m\u001b[43m)\u001b[49m\u001b[43m)\u001b[49m\n\u001b[1;32m    162\u001b[0m df\u001b[38;5;241m.\u001b[39mto_csv(\u001b[38;5;124m'\u001b[39m\u001b[38;5;124murls.csv\u001b[39m\u001b[38;5;124m'\u001b[39m,index\u001b[38;5;241m=\u001b[39m\u001b[38;5;28;01mFalse\u001b[39;00m, mode\u001b[38;5;241m=\u001b[39m\u001b[38;5;124m'\u001b[39m\u001b[38;5;124ma\u001b[39m\u001b[38;5;124m'\u001b[39m, header\u001b[38;5;241m=\u001b[39m\u001b[38;5;129;01mnot\u001b[39;00m os\u001b[38;5;241m.\u001b[39mpath\u001b[38;5;241m.\u001b[39mexists(\u001b[38;5;124m'\u001b[39m\u001b[38;5;124murls.csv\u001b[39m\u001b[38;5;124m'\u001b[39m))\n",
      "File \u001b[0;32m~/Documentos/Repositorios/Proyectos/discursos-enfermedades/1. Adquisición de datos/crawling.py:144\u001b[0m, in \u001b[0;36mgoogle_crawl.<locals>.crawler\u001b[0;34m(url)\u001b[0m\n\u001b[1;32m    142\u001b[0m \u001b[38;5;28;01mif\u001b[39;00m latestSoup\u001b[38;5;241m.\u001b[39mfind_all(\u001b[38;5;124m'\u001b[39m\u001b[38;5;124ma\u001b[39m\u001b[38;5;124m'\u001b[39m,{\u001b[38;5;124m'\u001b[39m\u001b[38;5;124mclass\u001b[39m\u001b[38;5;124m'\u001b[39m:\u001b[38;5;124m'\u001b[39m\u001b[38;5;124mWlydOe\u001b[39m\u001b[38;5;124m'\u001b[39m}):\n\u001b[1;32m    143\u001b[0m     \u001b[38;5;28;01mfor\u001b[39;00m page \u001b[38;5;129;01min\u001b[39;00m latestSoup\u001b[38;5;241m.\u001b[39mfind_all(\u001b[38;5;124m'\u001b[39m\u001b[38;5;124ma\u001b[39m\u001b[38;5;124m'\u001b[39m,{\u001b[38;5;124m'\u001b[39m\u001b[38;5;124mclass\u001b[39m\u001b[38;5;124m'\u001b[39m:\u001b[38;5;124m'\u001b[39m\u001b[38;5;124mWlydOe\u001b[39m\u001b[38;5;124m'\u001b[39m}):\n\u001b[0;32m--> 144\u001b[0m         \u001b[43mcollection\u001b[49m\u001b[43m[\u001b[49m\u001b[38;5;124;43m'\u001b[39;49m\u001b[38;5;124;43mdisease\u001b[39;49m\u001b[38;5;124;43m'\u001b[39;49m\u001b[43m]\u001b[49m \u001b[38;5;241m+\u001b[39m\u001b[38;5;241m=\u001b[39m [disease]\n\u001b[1;32m    145\u001b[0m         collection[\u001b[38;5;124m'\u001b[39m\u001b[38;5;124mlink\u001b[39m\u001b[38;5;124m'\u001b[39m] \u001b[38;5;241m+\u001b[39m\u001b[38;5;241m=\u001b[39m [page\u001b[38;5;241m.\u001b[39murl]\n\u001b[1;32m    146\u001b[0m         collection[\u001b[38;5;124m'\u001b[39m\u001b[38;5;124mdate\u001b[39m\u001b[38;5;124m'\u001b[39m] \u001b[38;5;241m+\u001b[39m\u001b[38;5;241m=\u001b[39m [page\u001b[38;5;241m.\u001b[39mfind_all(\u001b[38;5;124m'\u001b[39m\u001b[38;5;124mspan\u001b[39m\u001b[38;5;124m'\u001b[39m)[\u001b[38;5;241m-\u001b[39m\u001b[38;5;241m1\u001b[39m]\u001b[38;5;241m.\u001b[39mtext]\n",
      "\u001b[0;31mKeyError\u001b[0m: 'disease'"
     ]
    }
   ],
   "source": [
    "from datetime import datetime as dt\n",
    "\n",
    "subset = diseases[:5]\n",
    "\n",
    "for disease in subset:\n",
    "    print(f'{disease}: {dt.now()}')\n",
    "    \n",
    "    for datetuple in datecombo:\n",
    "        aw_crawl.google_crawl(disease,aw_crawl.resolve_date(datetuple))"
   ]
  }
 ],
 "metadata": {
  "kernelspec": {
   "display_name": ".venv",
   "language": "python",
   "name": "python3"
  },
  "language_info": {
   "codemirror_mode": {
    "name": "ipython",
    "version": 3
   },
   "file_extension": ".py",
   "mimetype": "text/x-python",
   "name": "python",
   "nbconvert_exporter": "python",
   "pygments_lexer": "ipython3",
   "version": "3.12.3"
  }
 },
 "nbformat": 4,
 "nbformat_minor": 2
}
